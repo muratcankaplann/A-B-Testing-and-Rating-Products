{
 "cells": [
  {
   "cell_type": "code",
   "execution_count": 1,
   "id": "139634d4-33d7-48c3-888c-6f16ec2f19de",
   "metadata": {},
   "outputs": [],
   "source": [
    "import pandas as pd\n",
    "import seaborn as sns\n",
    "import numpy as np\n",
    "import matplotlib as plt"
   ]
  },
  {
   "cell_type": "code",
   "execution_count": 2,
   "id": "0b67659b-5cee-4f4f-a693-f0e33481efe8",
   "metadata": {},
   "outputs": [],
   "source": [
    "df_control = pd.read_excel(\"ab_testing.xlsx\", sheet_name=\"Control Group\")"
   ]
  },
  {
   "cell_type": "code",
   "execution_count": 3,
   "id": "79949e05-84d3-4566-b00d-cc9ace9e33c1",
   "metadata": {},
   "outputs": [],
   "source": [
    "df_test = pd.read_excel(\"ab_testing.xlsx\", sheet_name=\"Test Group\")"
   ]
  },
  {
   "cell_type": "code",
   "execution_count": 4,
   "id": "e81b4274-653b-4a9e-bb7f-573037ffde0c",
   "metadata": {},
   "outputs": [],
   "source": [
    "pd.set_option('display.max_columns', None)\n",
    "pd.set_option('display.max_rows', 10)\n",
    "pd.set_option('display.float_format', lambda x: '%.5f' % x)"
   ]
  },
  {
   "cell_type": "code",
   "execution_count": 5,
   "id": "ca747017-0f0e-4893-bc12-782ba2a6278d",
   "metadata": {},
   "outputs": [
    {
     "data": {
      "text/html": [
       "<div>\n",
       "<style scoped>\n",
       "    .dataframe tbody tr th:only-of-type {\n",
       "        vertical-align: middle;\n",
       "    }\n",
       "\n",
       "    .dataframe tbody tr th {\n",
       "        vertical-align: top;\n",
       "    }\n",
       "\n",
       "    .dataframe thead th {\n",
       "        text-align: right;\n",
       "    }\n",
       "</style>\n",
       "<table border=\"1\" class=\"dataframe\">\n",
       "  <thead>\n",
       "    <tr style=\"text-align: right;\">\n",
       "      <th></th>\n",
       "      <th>Impression</th>\n",
       "      <th>Click</th>\n",
       "      <th>Purchase</th>\n",
       "      <th>Earning</th>\n",
       "    </tr>\n",
       "  </thead>\n",
       "  <tbody>\n",
       "    <tr>\n",
       "      <th>0</th>\n",
       "      <td>82529.45927</td>\n",
       "      <td>6090.07732</td>\n",
       "      <td>665.21125</td>\n",
       "      <td>2311.27714</td>\n",
       "    </tr>\n",
       "    <tr>\n",
       "      <th>1</th>\n",
       "      <td>98050.45193</td>\n",
       "      <td>3382.86179</td>\n",
       "      <td>315.08489</td>\n",
       "      <td>1742.80686</td>\n",
       "    </tr>\n",
       "    <tr>\n",
       "      <th>2</th>\n",
       "      <td>82696.02355</td>\n",
       "      <td>4167.96575</td>\n",
       "      <td>458.08374</td>\n",
       "      <td>1797.82745</td>\n",
       "    </tr>\n",
       "    <tr>\n",
       "      <th>3</th>\n",
       "      <td>109914.40040</td>\n",
       "      <td>4910.88224</td>\n",
       "      <td>487.09077</td>\n",
       "      <td>1696.22918</td>\n",
       "    </tr>\n",
       "    <tr>\n",
       "      <th>4</th>\n",
       "      <td>108457.76263</td>\n",
       "      <td>5987.65581</td>\n",
       "      <td>441.03405</td>\n",
       "      <td>1543.72018</td>\n",
       "    </tr>\n",
       "    <tr>\n",
       "      <th>...</th>\n",
       "      <td>...</td>\n",
       "      <td>...</td>\n",
       "      <td>...</td>\n",
       "      <td>...</td>\n",
       "    </tr>\n",
       "    <tr>\n",
       "      <th>35</th>\n",
       "      <td>132064.21900</td>\n",
       "      <td>3747.15754</td>\n",
       "      <td>551.07241</td>\n",
       "      <td>2256.97559</td>\n",
       "    </tr>\n",
       "    <tr>\n",
       "      <th>36</th>\n",
       "      <td>86409.94180</td>\n",
       "      <td>4608.25621</td>\n",
       "      <td>345.04603</td>\n",
       "      <td>1781.35769</td>\n",
       "    </tr>\n",
       "    <tr>\n",
       "      <th>37</th>\n",
       "      <td>123678.93423</td>\n",
       "      <td>3649.07379</td>\n",
       "      <td>476.16813</td>\n",
       "      <td>2187.72122</td>\n",
       "    </tr>\n",
       "    <tr>\n",
       "      <th>38</th>\n",
       "      <td>101997.49410</td>\n",
       "      <td>4736.35337</td>\n",
       "      <td>474.61354</td>\n",
       "      <td>2254.56383</td>\n",
       "    </tr>\n",
       "    <tr>\n",
       "      <th>39</th>\n",
       "      <td>121085.88122</td>\n",
       "      <td>4285.17861</td>\n",
       "      <td>590.40602</td>\n",
       "      <td>1289.30895</td>\n",
       "    </tr>\n",
       "  </tbody>\n",
       "</table>\n",
       "<p>40 rows × 4 columns</p>\n",
       "</div>"
      ],
      "text/plain": [
       "     Impression      Click  Purchase    Earning\n",
       "0   82529.45927 6090.07732 665.21125 2311.27714\n",
       "1   98050.45193 3382.86179 315.08489 1742.80686\n",
       "2   82696.02355 4167.96575 458.08374 1797.82745\n",
       "3  109914.40040 4910.88224 487.09077 1696.22918\n",
       "4  108457.76263 5987.65581 441.03405 1543.72018\n",
       "..          ...        ...       ...        ...\n",
       "35 132064.21900 3747.15754 551.07241 2256.97559\n",
       "36  86409.94180 4608.25621 345.04603 1781.35769\n",
       "37 123678.93423 3649.07379 476.16813 2187.72122\n",
       "38 101997.49410 4736.35337 474.61354 2254.56383\n",
       "39 121085.88122 4285.17861 590.40602 1289.30895\n",
       "\n",
       "[40 rows x 4 columns]"
      ]
     },
     "execution_count": 5,
     "metadata": {},
     "output_type": "execute_result"
    }
   ],
   "source": [
    "df_control"
   ]
  },
  {
   "cell_type": "code",
   "execution_count": 6,
   "id": "edffd1b0-14ad-4406-979e-adfc497ec865",
   "metadata": {},
   "outputs": [
    {
     "data": {
      "text/html": [
       "<div>\n",
       "<style scoped>\n",
       "    .dataframe tbody tr th:only-of-type {\n",
       "        vertical-align: middle;\n",
       "    }\n",
       "\n",
       "    .dataframe tbody tr th {\n",
       "        vertical-align: top;\n",
       "    }\n",
       "\n",
       "    .dataframe thead th {\n",
       "        text-align: right;\n",
       "    }\n",
       "</style>\n",
       "<table border=\"1\" class=\"dataframe\">\n",
       "  <thead>\n",
       "    <tr style=\"text-align: right;\">\n",
       "      <th></th>\n",
       "      <th>Impression</th>\n",
       "      <th>Click</th>\n",
       "      <th>Purchase</th>\n",
       "      <th>Earning</th>\n",
       "    </tr>\n",
       "  </thead>\n",
       "  <tbody>\n",
       "    <tr>\n",
       "      <th>0</th>\n",
       "      <td>120103.50380</td>\n",
       "      <td>3216.54796</td>\n",
       "      <td>702.16035</td>\n",
       "      <td>1939.61124</td>\n",
       "    </tr>\n",
       "    <tr>\n",
       "      <th>1</th>\n",
       "      <td>134775.94336</td>\n",
       "      <td>3635.08242</td>\n",
       "      <td>834.05429</td>\n",
       "      <td>2929.40582</td>\n",
       "    </tr>\n",
       "    <tr>\n",
       "      <th>2</th>\n",
       "      <td>107806.62079</td>\n",
       "      <td>3057.14356</td>\n",
       "      <td>422.93426</td>\n",
       "      <td>2526.24488</td>\n",
       "    </tr>\n",
       "    <tr>\n",
       "      <th>3</th>\n",
       "      <td>116445.27553</td>\n",
       "      <td>4650.47391</td>\n",
       "      <td>429.03353</td>\n",
       "      <td>2281.42857</td>\n",
       "    </tr>\n",
       "    <tr>\n",
       "      <th>4</th>\n",
       "      <td>145082.51684</td>\n",
       "      <td>5201.38772</td>\n",
       "      <td>749.86044</td>\n",
       "      <td>2781.69752</td>\n",
       "    </tr>\n",
       "    <tr>\n",
       "      <th>...</th>\n",
       "      <td>...</td>\n",
       "      <td>...</td>\n",
       "      <td>...</td>\n",
       "      <td>...</td>\n",
       "    </tr>\n",
       "    <tr>\n",
       "      <th>35</th>\n",
       "      <td>79234.91193</td>\n",
       "      <td>6002.21358</td>\n",
       "      <td>382.04712</td>\n",
       "      <td>2277.86398</td>\n",
       "    </tr>\n",
       "    <tr>\n",
       "      <th>36</th>\n",
       "      <td>130702.23941</td>\n",
       "      <td>3626.32007</td>\n",
       "      <td>449.82459</td>\n",
       "      <td>2530.84133</td>\n",
       "    </tr>\n",
       "    <tr>\n",
       "      <th>37</th>\n",
       "      <td>116481.87337</td>\n",
       "      <td>4702.78247</td>\n",
       "      <td>472.45373</td>\n",
       "      <td>2597.91763</td>\n",
       "    </tr>\n",
       "    <tr>\n",
       "      <th>38</th>\n",
       "      <td>79033.83492</td>\n",
       "      <td>4495.42818</td>\n",
       "      <td>425.35910</td>\n",
       "      <td>2595.85788</td>\n",
       "    </tr>\n",
       "    <tr>\n",
       "      <th>39</th>\n",
       "      <td>102257.45409</td>\n",
       "      <td>4800.06832</td>\n",
       "      <td>521.31073</td>\n",
       "      <td>2967.51839</td>\n",
       "    </tr>\n",
       "  </tbody>\n",
       "</table>\n",
       "<p>40 rows × 4 columns</p>\n",
       "</div>"
      ],
      "text/plain": [
       "     Impression      Click  Purchase    Earning\n",
       "0  120103.50380 3216.54796 702.16035 1939.61124\n",
       "1  134775.94336 3635.08242 834.05429 2929.40582\n",
       "2  107806.62079 3057.14356 422.93426 2526.24488\n",
       "3  116445.27553 4650.47391 429.03353 2281.42857\n",
       "4  145082.51684 5201.38772 749.86044 2781.69752\n",
       "..          ...        ...       ...        ...\n",
       "35  79234.91193 6002.21358 382.04712 2277.86398\n",
       "36 130702.23941 3626.32007 449.82459 2530.84133\n",
       "37 116481.87337 4702.78247 472.45373 2597.91763\n",
       "38  79033.83492 4495.42818 425.35910 2595.85788\n",
       "39 102257.45409 4800.06832 521.31073 2967.51839\n",
       "\n",
       "[40 rows x 4 columns]"
      ]
     },
     "execution_count": 6,
     "metadata": {},
     "output_type": "execute_result"
    }
   ],
   "source": [
    "df_test"
   ]
  },
  {
   "cell_type": "code",
   "execution_count": 7,
   "id": "15e6c41f-ebe2-4657-83c4-3ba40a889b7b",
   "metadata": {},
   "outputs": [
    {
     "data": {
      "text/html": [
       "<div>\n",
       "<style scoped>\n",
       "    .dataframe tbody tr th:only-of-type {\n",
       "        vertical-align: middle;\n",
       "    }\n",
       "\n",
       "    .dataframe tbody tr th {\n",
       "        vertical-align: top;\n",
       "    }\n",
       "\n",
       "    .dataframe thead th {\n",
       "        text-align: right;\n",
       "    }\n",
       "</style>\n",
       "<table border=\"1\" class=\"dataframe\">\n",
       "  <thead>\n",
       "    <tr style=\"text-align: right;\">\n",
       "      <th></th>\n",
       "      <th>count</th>\n",
       "      <th>mean</th>\n",
       "      <th>std</th>\n",
       "      <th>min</th>\n",
       "      <th>25%</th>\n",
       "      <th>50%</th>\n",
       "      <th>75%</th>\n",
       "      <th>max</th>\n",
       "    </tr>\n",
       "  </thead>\n",
       "  <tbody>\n",
       "    <tr>\n",
       "      <th>Impression</th>\n",
       "      <td>40.00000</td>\n",
       "      <td>101711.44907</td>\n",
       "      <td>20302.15786</td>\n",
       "      <td>45475.94296</td>\n",
       "      <td>85726.69035</td>\n",
       "      <td>99790.70108</td>\n",
       "      <td>115212.81654</td>\n",
       "      <td>147539.33633</td>\n",
       "    </tr>\n",
       "    <tr>\n",
       "      <th>Click</th>\n",
       "      <td>40.00000</td>\n",
       "      <td>5100.65737</td>\n",
       "      <td>1329.98550</td>\n",
       "      <td>2189.75316</td>\n",
       "      <td>4124.30413</td>\n",
       "      <td>5001.22060</td>\n",
       "      <td>5923.80360</td>\n",
       "      <td>7959.12507</td>\n",
       "    </tr>\n",
       "    <tr>\n",
       "      <th>Purchase</th>\n",
       "      <td>40.00000</td>\n",
       "      <td>550.89406</td>\n",
       "      <td>134.10820</td>\n",
       "      <td>267.02894</td>\n",
       "      <td>470.09553</td>\n",
       "      <td>531.20631</td>\n",
       "      <td>637.95709</td>\n",
       "      <td>801.79502</td>\n",
       "    </tr>\n",
       "    <tr>\n",
       "      <th>Earning</th>\n",
       "      <td>40.00000</td>\n",
       "      <td>1908.56830</td>\n",
       "      <td>302.91778</td>\n",
       "      <td>1253.98952</td>\n",
       "      <td>1685.84720</td>\n",
       "      <td>1975.16052</td>\n",
       "      <td>2119.80278</td>\n",
       "      <td>2497.29522</td>\n",
       "    </tr>\n",
       "  </tbody>\n",
       "</table>\n",
       "</div>"
      ],
      "text/plain": [
       "              count         mean         std         min         25%  \\\n",
       "Impression 40.00000 101711.44907 20302.15786 45475.94296 85726.69035   \n",
       "Click      40.00000   5100.65737  1329.98550  2189.75316  4124.30413   \n",
       "Purchase   40.00000    550.89406   134.10820   267.02894   470.09553   \n",
       "Earning    40.00000   1908.56830   302.91778  1253.98952  1685.84720   \n",
       "\n",
       "                   50%          75%          max  \n",
       "Impression 99790.70108 115212.81654 147539.33633  \n",
       "Click       5001.22060   5923.80360   7959.12507  \n",
       "Purchase     531.20631    637.95709    801.79502  \n",
       "Earning     1975.16052   2119.80278   2497.29522  "
      ]
     },
     "execution_count": 7,
     "metadata": {},
     "output_type": "execute_result"
    }
   ],
   "source": [
    "df_control.describe().T"
   ]
  },
  {
   "cell_type": "code",
   "execution_count": 8,
   "id": "8529003d-249e-499f-8871-99251c873b94",
   "metadata": {},
   "outputs": [
    {
     "data": {
      "text/html": [
       "<div>\n",
       "<style scoped>\n",
       "    .dataframe tbody tr th:only-of-type {\n",
       "        vertical-align: middle;\n",
       "    }\n",
       "\n",
       "    .dataframe tbody tr th {\n",
       "        vertical-align: top;\n",
       "    }\n",
       "\n",
       "    .dataframe thead th {\n",
       "        text-align: right;\n",
       "    }\n",
       "</style>\n",
       "<table border=\"1\" class=\"dataframe\">\n",
       "  <thead>\n",
       "    <tr style=\"text-align: right;\">\n",
       "      <th></th>\n",
       "      <th>count</th>\n",
       "      <th>mean</th>\n",
       "      <th>std</th>\n",
       "      <th>min</th>\n",
       "      <th>25%</th>\n",
       "      <th>50%</th>\n",
       "      <th>75%</th>\n",
       "      <th>max</th>\n",
       "    </tr>\n",
       "  </thead>\n",
       "  <tbody>\n",
       "    <tr>\n",
       "      <th>Impression</th>\n",
       "      <td>40.00000</td>\n",
       "      <td>120512.41176</td>\n",
       "      <td>18807.44871</td>\n",
       "      <td>79033.83492</td>\n",
       "      <td>112691.97077</td>\n",
       "      <td>119291.30077</td>\n",
       "      <td>132050.57893</td>\n",
       "      <td>158605.92048</td>\n",
       "    </tr>\n",
       "    <tr>\n",
       "      <th>Click</th>\n",
       "      <td>40.00000</td>\n",
       "      <td>3967.54976</td>\n",
       "      <td>923.09507</td>\n",
       "      <td>1836.62986</td>\n",
       "      <td>3376.81902</td>\n",
       "      <td>3931.35980</td>\n",
       "      <td>4660.49791</td>\n",
       "      <td>6019.69508</td>\n",
       "    </tr>\n",
       "    <tr>\n",
       "      <th>Purchase</th>\n",
       "      <td>40.00000</td>\n",
       "      <td>582.10610</td>\n",
       "      <td>161.15251</td>\n",
       "      <td>311.62952</td>\n",
       "      <td>444.62683</td>\n",
       "      <td>551.35573</td>\n",
       "      <td>699.86236</td>\n",
       "      <td>889.91046</td>\n",
       "    </tr>\n",
       "    <tr>\n",
       "      <th>Earning</th>\n",
       "      <td>40.00000</td>\n",
       "      <td>2514.89073</td>\n",
       "      <td>282.73085</td>\n",
       "      <td>1939.61124</td>\n",
       "      <td>2280.53743</td>\n",
       "      <td>2544.66611</td>\n",
       "      <td>2761.54540</td>\n",
       "      <td>3171.48971</td>\n",
       "    </tr>\n",
       "  </tbody>\n",
       "</table>\n",
       "</div>"
      ],
      "text/plain": [
       "              count         mean         std         min          25%  \\\n",
       "Impression 40.00000 120512.41176 18807.44871 79033.83492 112691.97077   \n",
       "Click      40.00000   3967.54976   923.09507  1836.62986   3376.81902   \n",
       "Purchase   40.00000    582.10610   161.15251   311.62952    444.62683   \n",
       "Earning    40.00000   2514.89073   282.73085  1939.61124   2280.53743   \n",
       "\n",
       "                    50%          75%          max  \n",
       "Impression 119291.30077 132050.57893 158605.92048  \n",
       "Click        3931.35980   4660.49791   6019.69508  \n",
       "Purchase      551.35573    699.86236    889.91046  \n",
       "Earning      2544.66611   2761.54540   3171.48971  "
      ]
     },
     "execution_count": 8,
     "metadata": {},
     "output_type": "execute_result"
    }
   ],
   "source": [
    "df_test.describe().T"
   ]
  },
  {
   "cell_type": "code",
   "execution_count": 9,
   "id": "c22573a6-a5cb-403a-b472-238a4902e160",
   "metadata": {},
   "outputs": [
    {
     "data": {
      "text/plain": [
       "Impression    0\n",
       "Click         0\n",
       "Purchase      0\n",
       "Earning       0\n",
       "dtype: int64"
      ]
     },
     "execution_count": 9,
     "metadata": {},
     "output_type": "execute_result"
    }
   ],
   "source": [
    "df_control.isnull().sum()"
   ]
  },
  {
   "cell_type": "code",
   "execution_count": 10,
   "id": "b02e0b59-2a1e-491c-abdb-1652da4f417a",
   "metadata": {},
   "outputs": [
    {
     "data": {
      "text/plain": [
       "Impression    0\n",
       "Click         0\n",
       "Purchase      0\n",
       "Earning       0\n",
       "dtype: int64"
      ]
     },
     "execution_count": 10,
     "metadata": {},
     "output_type": "execute_result"
    }
   ],
   "source": [
    "df_test.isnull().sum()"
   ]
  },
  {
   "cell_type": "code",
   "execution_count": 11,
   "id": "222ef49d-23e2-4aaa-81eb-35609f1cbd23",
   "metadata": {},
   "outputs": [
    {
     "data": {
      "text/plain": [
       "Impression    float64\n",
       "Click         float64\n",
       "Purchase      float64\n",
       "Earning       float64\n",
       "dtype: object"
      ]
     },
     "execution_count": 11,
     "metadata": {},
     "output_type": "execute_result"
    }
   ],
   "source": [
    "df_control.dtypes"
   ]
  },
  {
   "cell_type": "code",
   "execution_count": 12,
   "id": "875f29ef-9f99-4704-ace5-153e78f1f128",
   "metadata": {},
   "outputs": [
    {
     "data": {
      "text/plain": [
       "Impression    float64\n",
       "Click         float64\n",
       "Purchase      float64\n",
       "Earning       float64\n",
       "dtype: object"
      ]
     },
     "execution_count": 12,
     "metadata": {},
     "output_type": "execute_result"
    }
   ],
   "source": [
    "df_test.dtypes"
   ]
  },
  {
   "cell_type": "code",
   "execution_count": 13,
   "id": "bd983433-10de-4db8-8b06-d771bd154b93",
   "metadata": {},
   "outputs": [],
   "source": [
    "df_control_cpy = df_control.copy()"
   ]
  },
  {
   "cell_type": "code",
   "execution_count": 14,
   "id": "81f04de6-e4e4-4180-bf5b-c10975ed3337",
   "metadata": {},
   "outputs": [
    {
     "data": {
      "text/html": [
       "<div>\n",
       "<style scoped>\n",
       "    .dataframe tbody tr th:only-of-type {\n",
       "        vertical-align: middle;\n",
       "    }\n",
       "\n",
       "    .dataframe tbody tr th {\n",
       "        vertical-align: top;\n",
       "    }\n",
       "\n",
       "    .dataframe thead th {\n",
       "        text-align: right;\n",
       "    }\n",
       "</style>\n",
       "<table border=\"1\" class=\"dataframe\">\n",
       "  <thead>\n",
       "    <tr style=\"text-align: right;\">\n",
       "      <th></th>\n",
       "      <th>Impression</th>\n",
       "      <th>Click</th>\n",
       "      <th>Purchase</th>\n",
       "      <th>Earning</th>\n",
       "    </tr>\n",
       "  </thead>\n",
       "  <tbody>\n",
       "    <tr>\n",
       "      <th>0</th>\n",
       "      <td>82529.45927</td>\n",
       "      <td>6090.07732</td>\n",
       "      <td>665.21125</td>\n",
       "      <td>2311.27714</td>\n",
       "    </tr>\n",
       "    <tr>\n",
       "      <th>1</th>\n",
       "      <td>98050.45193</td>\n",
       "      <td>3382.86179</td>\n",
       "      <td>315.08489</td>\n",
       "      <td>1742.80686</td>\n",
       "    </tr>\n",
       "    <tr>\n",
       "      <th>2</th>\n",
       "      <td>82696.02355</td>\n",
       "      <td>4167.96575</td>\n",
       "      <td>458.08374</td>\n",
       "      <td>1797.82745</td>\n",
       "    </tr>\n",
       "    <tr>\n",
       "      <th>3</th>\n",
       "      <td>109914.40040</td>\n",
       "      <td>4910.88224</td>\n",
       "      <td>487.09077</td>\n",
       "      <td>1696.22918</td>\n",
       "    </tr>\n",
       "    <tr>\n",
       "      <th>4</th>\n",
       "      <td>108457.76263</td>\n",
       "      <td>5987.65581</td>\n",
       "      <td>441.03405</td>\n",
       "      <td>1543.72018</td>\n",
       "    </tr>\n",
       "    <tr>\n",
       "      <th>...</th>\n",
       "      <td>...</td>\n",
       "      <td>...</td>\n",
       "      <td>...</td>\n",
       "      <td>...</td>\n",
       "    </tr>\n",
       "    <tr>\n",
       "      <th>35</th>\n",
       "      <td>132064.21900</td>\n",
       "      <td>3747.15754</td>\n",
       "      <td>551.07241</td>\n",
       "      <td>2256.97559</td>\n",
       "    </tr>\n",
       "    <tr>\n",
       "      <th>36</th>\n",
       "      <td>86409.94180</td>\n",
       "      <td>4608.25621</td>\n",
       "      <td>345.04603</td>\n",
       "      <td>1781.35769</td>\n",
       "    </tr>\n",
       "    <tr>\n",
       "      <th>37</th>\n",
       "      <td>123678.93423</td>\n",
       "      <td>3649.07379</td>\n",
       "      <td>476.16813</td>\n",
       "      <td>2187.72122</td>\n",
       "    </tr>\n",
       "    <tr>\n",
       "      <th>38</th>\n",
       "      <td>101997.49410</td>\n",
       "      <td>4736.35337</td>\n",
       "      <td>474.61354</td>\n",
       "      <td>2254.56383</td>\n",
       "    </tr>\n",
       "    <tr>\n",
       "      <th>39</th>\n",
       "      <td>121085.88122</td>\n",
       "      <td>4285.17861</td>\n",
       "      <td>590.40602</td>\n",
       "      <td>1289.30895</td>\n",
       "    </tr>\n",
       "  </tbody>\n",
       "</table>\n",
       "<p>40 rows × 4 columns</p>\n",
       "</div>"
      ],
      "text/plain": [
       "     Impression      Click  Purchase    Earning\n",
       "0   82529.45927 6090.07732 665.21125 2311.27714\n",
       "1   98050.45193 3382.86179 315.08489 1742.80686\n",
       "2   82696.02355 4167.96575 458.08374 1797.82745\n",
       "3  109914.40040 4910.88224 487.09077 1696.22918\n",
       "4  108457.76263 5987.65581 441.03405 1543.72018\n",
       "..          ...        ...       ...        ...\n",
       "35 132064.21900 3747.15754 551.07241 2256.97559\n",
       "36  86409.94180 4608.25621 345.04603 1781.35769\n",
       "37 123678.93423 3649.07379 476.16813 2187.72122\n",
       "38 101997.49410 4736.35337 474.61354 2254.56383\n",
       "39 121085.88122 4285.17861 590.40602 1289.30895\n",
       "\n",
       "[40 rows x 4 columns]"
      ]
     },
     "execution_count": 14,
     "metadata": {},
     "output_type": "execute_result"
    }
   ],
   "source": [
    "df_control_cpy"
   ]
  },
  {
   "cell_type": "code",
   "execution_count": 15,
   "id": "812678ac-048f-4d0e-8332-ece8366ead2a",
   "metadata": {},
   "outputs": [
    {
     "name": "stdout",
     "output_type": "stream",
     "text": [
      "['Impression_c']\n",
      "['Impression_c', 'Click_c']\n",
      "['Impression_c', 'Click_c', 'Purchase_c']\n",
      "['Impression_c', 'Click_c', 'Purchase_c', 'Earning_c']\n"
     ]
    }
   ],
   "source": [
    "a = []\n",
    "for i in df_control_cpy.columns:\n",
    "    a.append(df_control_cpy[i].name + \"_c\")\n",
    "    print(a)\n",
    "    \n",
    "df_control.columns = a\n",
    "\n"
   ]
  },
  {
   "cell_type": "code",
   "execution_count": 16,
   "id": "afe5643c-eff5-44f9-bcce-8a8b8400d7ef",
   "metadata": {},
   "outputs": [],
   "source": [
    "b = []\n",
    "for i in df_test.columns:\n",
    "    b.append(df_test[i].name + \"_t\")\n",
    "    \n",
    "    \n",
    "df_test.columns = b"
   ]
  },
  {
   "cell_type": "code",
   "execution_count": 17,
   "id": "38a11df9-62d8-4586-9ab1-c3398dbc6d1d",
   "metadata": {},
   "outputs": [
    {
     "data": {
      "text/html": [
       "<div>\n",
       "<style scoped>\n",
       "    .dataframe tbody tr th:only-of-type {\n",
       "        vertical-align: middle;\n",
       "    }\n",
       "\n",
       "    .dataframe tbody tr th {\n",
       "        vertical-align: top;\n",
       "    }\n",
       "\n",
       "    .dataframe thead th {\n",
       "        text-align: right;\n",
       "    }\n",
       "</style>\n",
       "<table border=\"1\" class=\"dataframe\">\n",
       "  <thead>\n",
       "    <tr style=\"text-align: right;\">\n",
       "      <th></th>\n",
       "      <th>Impression_t</th>\n",
       "      <th>Click_t</th>\n",
       "      <th>Purchase_t</th>\n",
       "      <th>Earning_t</th>\n",
       "    </tr>\n",
       "  </thead>\n",
       "  <tbody>\n",
       "    <tr>\n",
       "      <th>0</th>\n",
       "      <td>120103.50380</td>\n",
       "      <td>3216.54796</td>\n",
       "      <td>702.16035</td>\n",
       "      <td>1939.61124</td>\n",
       "    </tr>\n",
       "    <tr>\n",
       "      <th>1</th>\n",
       "      <td>134775.94336</td>\n",
       "      <td>3635.08242</td>\n",
       "      <td>834.05429</td>\n",
       "      <td>2929.40582</td>\n",
       "    </tr>\n",
       "    <tr>\n",
       "      <th>2</th>\n",
       "      <td>107806.62079</td>\n",
       "      <td>3057.14356</td>\n",
       "      <td>422.93426</td>\n",
       "      <td>2526.24488</td>\n",
       "    </tr>\n",
       "    <tr>\n",
       "      <th>3</th>\n",
       "      <td>116445.27553</td>\n",
       "      <td>4650.47391</td>\n",
       "      <td>429.03353</td>\n",
       "      <td>2281.42857</td>\n",
       "    </tr>\n",
       "    <tr>\n",
       "      <th>4</th>\n",
       "      <td>145082.51684</td>\n",
       "      <td>5201.38772</td>\n",
       "      <td>749.86044</td>\n",
       "      <td>2781.69752</td>\n",
       "    </tr>\n",
       "    <tr>\n",
       "      <th>...</th>\n",
       "      <td>...</td>\n",
       "      <td>...</td>\n",
       "      <td>...</td>\n",
       "      <td>...</td>\n",
       "    </tr>\n",
       "    <tr>\n",
       "      <th>35</th>\n",
       "      <td>79234.91193</td>\n",
       "      <td>6002.21358</td>\n",
       "      <td>382.04712</td>\n",
       "      <td>2277.86398</td>\n",
       "    </tr>\n",
       "    <tr>\n",
       "      <th>36</th>\n",
       "      <td>130702.23941</td>\n",
       "      <td>3626.32007</td>\n",
       "      <td>449.82459</td>\n",
       "      <td>2530.84133</td>\n",
       "    </tr>\n",
       "    <tr>\n",
       "      <th>37</th>\n",
       "      <td>116481.87337</td>\n",
       "      <td>4702.78247</td>\n",
       "      <td>472.45373</td>\n",
       "      <td>2597.91763</td>\n",
       "    </tr>\n",
       "    <tr>\n",
       "      <th>38</th>\n",
       "      <td>79033.83492</td>\n",
       "      <td>4495.42818</td>\n",
       "      <td>425.35910</td>\n",
       "      <td>2595.85788</td>\n",
       "    </tr>\n",
       "    <tr>\n",
       "      <th>39</th>\n",
       "      <td>102257.45409</td>\n",
       "      <td>4800.06832</td>\n",
       "      <td>521.31073</td>\n",
       "      <td>2967.51839</td>\n",
       "    </tr>\n",
       "  </tbody>\n",
       "</table>\n",
       "<p>40 rows × 4 columns</p>\n",
       "</div>"
      ],
      "text/plain": [
       "    Impression_t    Click_t  Purchase_t  Earning_t\n",
       "0   120103.50380 3216.54796   702.16035 1939.61124\n",
       "1   134775.94336 3635.08242   834.05429 2929.40582\n",
       "2   107806.62079 3057.14356   422.93426 2526.24488\n",
       "3   116445.27553 4650.47391   429.03353 2281.42857\n",
       "4   145082.51684 5201.38772   749.86044 2781.69752\n",
       "..           ...        ...         ...        ...\n",
       "35   79234.91193 6002.21358   382.04712 2277.86398\n",
       "36  130702.23941 3626.32007   449.82459 2530.84133\n",
       "37  116481.87337 4702.78247   472.45373 2597.91763\n",
       "38   79033.83492 4495.42818   425.35910 2595.85788\n",
       "39  102257.45409 4800.06832   521.31073 2967.51839\n",
       "\n",
       "[40 rows x 4 columns]"
      ]
     },
     "execution_count": 17,
     "metadata": {},
     "output_type": "execute_result"
    }
   ],
   "source": [
    "df_test"
   ]
  },
  {
   "cell_type": "code",
   "execution_count": 18,
   "id": "37e98827-67f6-4754-a54f-efa6b5bcebe6",
   "metadata": {},
   "outputs": [],
   "source": [
    "df = pd.concat([df_control,df_test],axis = 1)"
   ]
  },
  {
   "cell_type": "code",
   "execution_count": 19,
   "id": "19736f6d-77f4-4052-89ed-5771772fc0c0",
   "metadata": {},
   "outputs": [
    {
     "data": {
      "text/html": [
       "<div>\n",
       "<style scoped>\n",
       "    .dataframe tbody tr th:only-of-type {\n",
       "        vertical-align: middle;\n",
       "    }\n",
       "\n",
       "    .dataframe tbody tr th {\n",
       "        vertical-align: top;\n",
       "    }\n",
       "\n",
       "    .dataframe thead th {\n",
       "        text-align: right;\n",
       "    }\n",
       "</style>\n",
       "<table border=\"1\" class=\"dataframe\">\n",
       "  <thead>\n",
       "    <tr style=\"text-align: right;\">\n",
       "      <th></th>\n",
       "      <th>Impression_c</th>\n",
       "      <th>Click_c</th>\n",
       "      <th>Purchase_c</th>\n",
       "      <th>Earning_c</th>\n",
       "      <th>Impression_t</th>\n",
       "      <th>Click_t</th>\n",
       "      <th>Purchase_t</th>\n",
       "      <th>Earning_t</th>\n",
       "    </tr>\n",
       "  </thead>\n",
       "  <tbody>\n",
       "    <tr>\n",
       "      <th>0</th>\n",
       "      <td>82529.45927</td>\n",
       "      <td>6090.07732</td>\n",
       "      <td>665.21125</td>\n",
       "      <td>2311.27714</td>\n",
       "      <td>120103.50380</td>\n",
       "      <td>3216.54796</td>\n",
       "      <td>702.16035</td>\n",
       "      <td>1939.61124</td>\n",
       "    </tr>\n",
       "    <tr>\n",
       "      <th>1</th>\n",
       "      <td>98050.45193</td>\n",
       "      <td>3382.86179</td>\n",
       "      <td>315.08489</td>\n",
       "      <td>1742.80686</td>\n",
       "      <td>134775.94336</td>\n",
       "      <td>3635.08242</td>\n",
       "      <td>834.05429</td>\n",
       "      <td>2929.40582</td>\n",
       "    </tr>\n",
       "    <tr>\n",
       "      <th>2</th>\n",
       "      <td>82696.02355</td>\n",
       "      <td>4167.96575</td>\n",
       "      <td>458.08374</td>\n",
       "      <td>1797.82745</td>\n",
       "      <td>107806.62079</td>\n",
       "      <td>3057.14356</td>\n",
       "      <td>422.93426</td>\n",
       "      <td>2526.24488</td>\n",
       "    </tr>\n",
       "    <tr>\n",
       "      <th>3</th>\n",
       "      <td>109914.40040</td>\n",
       "      <td>4910.88224</td>\n",
       "      <td>487.09077</td>\n",
       "      <td>1696.22918</td>\n",
       "      <td>116445.27553</td>\n",
       "      <td>4650.47391</td>\n",
       "      <td>429.03353</td>\n",
       "      <td>2281.42857</td>\n",
       "    </tr>\n",
       "    <tr>\n",
       "      <th>4</th>\n",
       "      <td>108457.76263</td>\n",
       "      <td>5987.65581</td>\n",
       "      <td>441.03405</td>\n",
       "      <td>1543.72018</td>\n",
       "      <td>145082.51684</td>\n",
       "      <td>5201.38772</td>\n",
       "      <td>749.86044</td>\n",
       "      <td>2781.69752</td>\n",
       "    </tr>\n",
       "    <tr>\n",
       "      <th>...</th>\n",
       "      <td>...</td>\n",
       "      <td>...</td>\n",
       "      <td>...</td>\n",
       "      <td>...</td>\n",
       "      <td>...</td>\n",
       "      <td>...</td>\n",
       "      <td>...</td>\n",
       "      <td>...</td>\n",
       "    </tr>\n",
       "    <tr>\n",
       "      <th>35</th>\n",
       "      <td>132064.21900</td>\n",
       "      <td>3747.15754</td>\n",
       "      <td>551.07241</td>\n",
       "      <td>2256.97559</td>\n",
       "      <td>79234.91193</td>\n",
       "      <td>6002.21358</td>\n",
       "      <td>382.04712</td>\n",
       "      <td>2277.86398</td>\n",
       "    </tr>\n",
       "    <tr>\n",
       "      <th>36</th>\n",
       "      <td>86409.94180</td>\n",
       "      <td>4608.25621</td>\n",
       "      <td>345.04603</td>\n",
       "      <td>1781.35769</td>\n",
       "      <td>130702.23941</td>\n",
       "      <td>3626.32007</td>\n",
       "      <td>449.82459</td>\n",
       "      <td>2530.84133</td>\n",
       "    </tr>\n",
       "    <tr>\n",
       "      <th>37</th>\n",
       "      <td>123678.93423</td>\n",
       "      <td>3649.07379</td>\n",
       "      <td>476.16813</td>\n",
       "      <td>2187.72122</td>\n",
       "      <td>116481.87337</td>\n",
       "      <td>4702.78247</td>\n",
       "      <td>472.45373</td>\n",
       "      <td>2597.91763</td>\n",
       "    </tr>\n",
       "    <tr>\n",
       "      <th>38</th>\n",
       "      <td>101997.49410</td>\n",
       "      <td>4736.35337</td>\n",
       "      <td>474.61354</td>\n",
       "      <td>2254.56383</td>\n",
       "      <td>79033.83492</td>\n",
       "      <td>4495.42818</td>\n",
       "      <td>425.35910</td>\n",
       "      <td>2595.85788</td>\n",
       "    </tr>\n",
       "    <tr>\n",
       "      <th>39</th>\n",
       "      <td>121085.88122</td>\n",
       "      <td>4285.17861</td>\n",
       "      <td>590.40602</td>\n",
       "      <td>1289.30895</td>\n",
       "      <td>102257.45409</td>\n",
       "      <td>4800.06832</td>\n",
       "      <td>521.31073</td>\n",
       "      <td>2967.51839</td>\n",
       "    </tr>\n",
       "  </tbody>\n",
       "</table>\n",
       "<p>40 rows × 8 columns</p>\n",
       "</div>"
      ],
      "text/plain": [
       "    Impression_c    Click_c  Purchase_c  Earning_c  Impression_t    Click_t  \\\n",
       "0    82529.45927 6090.07732   665.21125 2311.27714  120103.50380 3216.54796   \n",
       "1    98050.45193 3382.86179   315.08489 1742.80686  134775.94336 3635.08242   \n",
       "2    82696.02355 4167.96575   458.08374 1797.82745  107806.62079 3057.14356   \n",
       "3   109914.40040 4910.88224   487.09077 1696.22918  116445.27553 4650.47391   \n",
       "4   108457.76263 5987.65581   441.03405 1543.72018  145082.51684 5201.38772   \n",
       "..           ...        ...         ...        ...           ...        ...   \n",
       "35  132064.21900 3747.15754   551.07241 2256.97559   79234.91193 6002.21358   \n",
       "36   86409.94180 4608.25621   345.04603 1781.35769  130702.23941 3626.32007   \n",
       "37  123678.93423 3649.07379   476.16813 2187.72122  116481.87337 4702.78247   \n",
       "38  101997.49410 4736.35337   474.61354 2254.56383   79033.83492 4495.42818   \n",
       "39  121085.88122 4285.17861   590.40602 1289.30895  102257.45409 4800.06832   \n",
       "\n",
       "    Purchase_t  Earning_t  \n",
       "0    702.16035 1939.61124  \n",
       "1    834.05429 2929.40582  \n",
       "2    422.93426 2526.24488  \n",
       "3    429.03353 2281.42857  \n",
       "4    749.86044 2781.69752  \n",
       "..         ...        ...  \n",
       "35   382.04712 2277.86398  \n",
       "36   449.82459 2530.84133  \n",
       "37   472.45373 2597.91763  \n",
       "38   425.35910 2595.85788  \n",
       "39   521.31073 2967.51839  \n",
       "\n",
       "[40 rows x 8 columns]"
      ]
     },
     "execution_count": 19,
     "metadata": {},
     "output_type": "execute_result"
    }
   ],
   "source": [
    "df"
   ]
  },
  {
   "cell_type": "markdown",
   "id": "405a69cc-5886-407c-ad69-6d8e065359ca",
   "metadata": {},
   "source": [
    "HO : M1 = M2\n",
    "H1 : M1 != M2\n",
    "Purchases made with the maximum bidding method are no different from the purchases made with the average bidding method. "
   ]
  },
  {
   "cell_type": "code",
   "execution_count": 20,
   "id": "ab9c2ab3-7c3a-4056-8455-9bf7f598bf07",
   "metadata": {},
   "outputs": [
    {
     "name": "stdout",
     "output_type": "stream",
     "text": [
      "Max_bidding_mean : 550.8940587702316\n",
      "Average_bidding_mean : 582.1060966484675\n"
     ]
    }
   ],
   "source": [
    "print(\"Max_bidding_mean :\", (df[\"Purchase_c\"].mean()))\n",
    "print(\"Average_bidding_mean :\", (df[\"Purchase_t\"].mean()))"
   ]
  },
  {
   "cell_type": "markdown",
   "id": "73c55302-6368-4922-917c-db8934efda40",
   "metadata": {},
   "source": [
    "Before we test the hypothesis, we need to check the assumptions. These are the assumptions of normality and homogeneity of variance."
   ]
  },
  {
   "cell_type": "markdown",
   "id": "abf20670-8d20-4995-a7b5-0edd21106c37",
   "metadata": {},
   "source": [
    "H0 : The assumption of normal distribution is provided.\n",
    "H1 : The assumption of normal distribution is not provided."
   ]
  },
  {
   "cell_type": "code",
   "execution_count": 21,
   "id": "5fc266cd-53d4-41bb-8df8-9967a48691eb",
   "metadata": {},
   "outputs": [],
   "source": [
    "import statsmodels.stats.api as sms\n",
    "from scipy.stats import ttest_1samp, shapiro, levene, ttest_ind, mannwhitneyu, pearsonr, spearmanr, kendalltau, f_oneway, kruskal\n",
    "from statsmodels.stats.proportion import proportions_ztest"
   ]
  },
  {
   "cell_type": "code",
   "execution_count": 22,
   "id": "e1dd8fc4-7991-48e0-98e8-ad02dd2b4002",
   "metadata": {},
   "outputs": [
    {
     "name": "stdout",
     "output_type": "stream",
     "text": [
      "test_stat_1 =  0.9773\n",
      "pvalue_1 =  0.5891\n"
     ]
    }
   ],
   "source": [
    "#FOR CONTROL GROUP\n",
    "test_stat_1, pvalue_1 = shapiro(df[\"Purchase_c\"])\n",
    "print(\"test_stat_1 = \", \"%.4f\" % test_stat_1)\n",
    "print(\"pvalue_1 = \", \"%.4f\" % pvalue_1)"
   ]
  },
  {
   "cell_type": "code",
   "execution_count": 23,
   "id": "1c912a1b-7e42-4ba6-a3a9-9dd7037342d2",
   "metadata": {},
   "outputs": [
    {
     "name": "stdout",
     "output_type": "stream",
     "text": [
      "test_stat_2 =  0.9589\n",
      "pvalue_2 =  0.1541\n"
     ]
    }
   ],
   "source": [
    "#FOR TEST GROUP\n",
    "test_stat_2, pvalue_2 = shapiro(df[\"Purchase_t\"])\n",
    "print(\"test_stat_2 = \", \"%.4f\" % test_stat_2)\n",
    "print(\"pvalue_2 = \", \"%.4f\" % pvalue_2)"
   ]
  },
  {
   "cell_type": "markdown",
   "id": "57a07516-1490-4c8a-ba6c-6956dd308b95",
   "metadata": {},
   "source": [
    "Assumption of normality is provided for both groups."
   ]
  },
  {
   "cell_type": "markdown",
   "id": "e60995ee-f0e1-4ff1-ae53-91a94ff3ca53",
   "metadata": {},
   "source": [
    "H0 : The assumption of homogeneity of variance is provided.\n",
    "H1 : The assumption of homogeneity of variance is not provided."
   ]
  },
  {
   "cell_type": "code",
   "execution_count": 24,
   "id": "0f76004a-38bf-4d3d-9b60-ec6fa5ce9215",
   "metadata": {},
   "outputs": [
    {
     "name": "stdout",
     "output_type": "stream",
     "text": [
      "test_stat_3 =  2.6393\n",
      "pvalue_3 =  0.1083\n"
     ]
    }
   ],
   "source": [
    "test_stat_3, pvalue_3 = levene(df[\"Purchase_c\"],df[\"Purchase_t\"])\n",
    "print(\"test_stat_3 = \", \"%.4f\" % test_stat_3)\n",
    "print(\"pvalue_3 = \", \"%.4f\" % pvalue_3)"
   ]
  },
  {
   "cell_type": "code",
   "execution_count": 25,
   "id": "f8e0feae-204e-4f97-a4a9-c81d0c334204",
   "metadata": {},
   "outputs": [
    {
     "data": {
      "text/plain": [
       "17985.009646860155"
      ]
     },
     "execution_count": 25,
     "metadata": {},
     "output_type": "execute_result"
    }
   ],
   "source": [
    "df[\"Purchase_c\"].var()"
   ]
  },
  {
   "cell_type": "code",
   "execution_count": 26,
   "id": "5d4c5e3c-1a2f-4791-9c8e-c80b3a376d52",
   "metadata": {},
   "outputs": [
    {
     "data": {
      "text/plain": [
       "25970.132590260022"
      ]
     },
     "execution_count": 26,
     "metadata": {},
     "output_type": "execute_result"
    }
   ],
   "source": [
    "df[\"Purchase_t\"].var()"
   ]
  },
  {
   "cell_type": "markdown",
   "id": "8659912b-5e47-4331-b93a-4d234e66e76e",
   "metadata": {},
   "source": [
    "variance homogeneity assumption is provided."
   ]
  },
  {
   "cell_type": "markdown",
   "id": "559f2b5b-aa5d-4ef3-9944-31e16233b61b",
   "metadata": {},
   "source": [
    "Since the assumptions are satisfied, the ttest hypothesis test can be applied."
   ]
  },
  {
   "cell_type": "code",
   "execution_count": 27,
   "id": "e793b43b-90ef-4549-b487-5adc79447bfa",
   "metadata": {},
   "outputs": [
    {
     "name": "stdout",
     "output_type": "stream",
     "text": [
      "test_stat_4 =  0.9416\n",
      "pvalue_4 =  0.3493\n"
     ]
    }
   ],
   "source": [
    "test_stat_4, pvalue_4 = ttest_ind(df[\"Purchase_t\"],df[\"Purchase_c\"],\n",
    "                              equal_var=True)\n",
    "print(\"test_stat_4 = \", \"%.4f\" % test_stat_4)\n",
    "print(\"pvalue_4 = \", \"%.4f\" % pvalue_4)"
   ]
  },
  {
   "cell_type": "markdown",
   "id": "267f96d4-d631-410a-927d-617c3b0e0bc1",
   "metadata": {},
   "source": [
    "HO cannot be rejected, so there is no statistical difference between the two methods."
   ]
  },
  {
   "cell_type": "code",
   "execution_count": null,
   "id": "c4b14689-63f4-4edb-b034-88cd27a89138",
   "metadata": {},
   "outputs": [],
   "source": []
  }
 ],
 "metadata": {
  "kernelspec": {
   "display_name": "Python 3 (ipykernel)",
   "language": "python",
   "name": "python3"
  },
  "language_info": {
   "codemirror_mode": {
    "name": "ipython",
    "version": 3
   },
   "file_extension": ".py",
   "mimetype": "text/x-python",
   "name": "python",
   "nbconvert_exporter": "python",
   "pygments_lexer": "ipython3",
   "version": "3.9.12"
  }
 },
 "nbformat": 4,
 "nbformat_minor": 5
}
